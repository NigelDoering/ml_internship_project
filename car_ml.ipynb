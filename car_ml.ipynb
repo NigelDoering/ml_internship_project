{
 "cells": [
  {
   "cell_type": "markdown",
   "id": "236c2ddc-d54c-43f7-baff-a37302ee0c00",
   "metadata": {},
   "source": [
    "# Random Forest vs Decision Tree Machine Learning  \n",
    "In this notebook, we will implement the decision tree classifier as well as the random forest classifier. We will train these classifiers on car data downloaded from the UCI Machine Learning Repository and evaluate which classifier performs better"
   ]
  },
  {
   "cell_type": "code",
   "execution_count": 36,
   "id": "5535d847-a533-4095-bdd7-7c87c4b695c0",
   "metadata": {},
   "outputs": [],
   "source": [
    "import pandas as pd\n",
    "import numpy as np"
   ]
  },
  {
   "cell_type": "code",
   "execution_count": 37,
   "id": "e935dd49-9898-4674-9aae-319aeef3ec64",
   "metadata": {},
   "outputs": [
    {
     "name": "stderr",
     "output_type": "stream",
     "text": [
      "/tmp/ipykernel_76/104882323.py:1: ParserWarning: Length of header or names does not match length of data. This leads to a loss of data with index_col=False.\n",
      "  car_data = pd.read_csv(\"./data/car.data\", names=[\"price\", \"maint\", \"doors\", \"capacity\", \"storage\", \"safety\"],\n"
     ]
    }
   ],
   "source": [
    "car_data = pd.read_csv(\"./data/car.data\", names=[\"price\", \"maint\", \"doors\", \"capacity\", \"storage\", \"safety\"], \n",
    "                      index_col=False)\n"
   ]
  },
  {
   "cell_type": "code",
   "execution_count": 38,
   "id": "2f230129-e63b-4951-955d-71ffb7ad97eb",
   "metadata": {},
   "outputs": [
    {
     "data": {
      "text/html": [
       "<div>\n",
       "<style scoped>\n",
       "    .dataframe tbody tr th:only-of-type {\n",
       "        vertical-align: middle;\n",
       "    }\n",
       "\n",
       "    .dataframe tbody tr th {\n",
       "        vertical-align: top;\n",
       "    }\n",
       "\n",
       "    .dataframe thead th {\n",
       "        text-align: right;\n",
       "    }\n",
       "</style>\n",
       "<table border=\"1\" class=\"dataframe\">\n",
       "  <thead>\n",
       "    <tr style=\"text-align: right;\">\n",
       "      <th></th>\n",
       "      <th>price</th>\n",
       "      <th>maint</th>\n",
       "      <th>doors</th>\n",
       "      <th>capacity</th>\n",
       "      <th>storage</th>\n",
       "      <th>safety</th>\n",
       "    </tr>\n",
       "  </thead>\n",
       "  <tbody>\n",
       "    <tr>\n",
       "      <th>0</th>\n",
       "      <td>vhigh</td>\n",
       "      <td>vhigh</td>\n",
       "      <td>2</td>\n",
       "      <td>2</td>\n",
       "      <td>small</td>\n",
       "      <td>low</td>\n",
       "    </tr>\n",
       "    <tr>\n",
       "      <th>1</th>\n",
       "      <td>vhigh</td>\n",
       "      <td>vhigh</td>\n",
       "      <td>2</td>\n",
       "      <td>2</td>\n",
       "      <td>small</td>\n",
       "      <td>med</td>\n",
       "    </tr>\n",
       "    <tr>\n",
       "      <th>2</th>\n",
       "      <td>vhigh</td>\n",
       "      <td>vhigh</td>\n",
       "      <td>2</td>\n",
       "      <td>2</td>\n",
       "      <td>small</td>\n",
       "      <td>high</td>\n",
       "    </tr>\n",
       "    <tr>\n",
       "      <th>3</th>\n",
       "      <td>vhigh</td>\n",
       "      <td>vhigh</td>\n",
       "      <td>2</td>\n",
       "      <td>2</td>\n",
       "      <td>med</td>\n",
       "      <td>low</td>\n",
       "    </tr>\n",
       "    <tr>\n",
       "      <th>4</th>\n",
       "      <td>vhigh</td>\n",
       "      <td>vhigh</td>\n",
       "      <td>2</td>\n",
       "      <td>2</td>\n",
       "      <td>med</td>\n",
       "      <td>med</td>\n",
       "    </tr>\n",
       "  </tbody>\n",
       "</table>\n",
       "</div>"
      ],
      "text/plain": [
       "   price  maint doors capacity storage safety\n",
       "0  vhigh  vhigh     2        2   small    low\n",
       "1  vhigh  vhigh     2        2   small    med\n",
       "2  vhigh  vhigh     2        2   small   high\n",
       "3  vhigh  vhigh     2        2     med    low\n",
       "4  vhigh  vhigh     2        2     med    med"
      ]
     },
     "execution_count": 38,
     "metadata": {},
     "output_type": "execute_result"
    }
   ],
   "source": [
    "car_data.head()"
   ]
  },
  {
   "cell_type": "code",
   "execution_count": 39,
   "id": "11a8741e-ae9a-4438-ac10-559732677fc3",
   "metadata": {},
   "outputs": [
    {
     "data": {
      "text/plain": [
       "array(['vhigh', 'high', 'med', 'low'], dtype=object)"
      ]
     },
     "execution_count": 39,
     "metadata": {},
     "output_type": "execute_result"
    }
   ],
   "source": [
    "car_data.maint.unique()"
   ]
  },
  {
   "cell_type": "code",
   "execution_count": 40,
   "id": "ecc65f08-3910-470b-ab0a-675b68937de3",
   "metadata": {},
   "outputs": [],
   "source": [
    "car_data['price'] = car_data['price'].map({'vhigh':3, 'high':2, 'med':1, 'low':0})\n",
    "car_data['maint'] = car_data['maint'].map({'vhigh':3, 'high':2, 'med':1, 'low':0})"
   ]
  },
  {
   "cell_type": "code",
   "execution_count": 41,
   "id": "d81a82ae-cca9-4d91-b5b4-c1e23796a1af",
   "metadata": {},
   "outputs": [
    {
     "data": {
      "text/html": [
       "<div>\n",
       "<style scoped>\n",
       "    .dataframe tbody tr th:only-of-type {\n",
       "        vertical-align: middle;\n",
       "    }\n",
       "\n",
       "    .dataframe tbody tr th {\n",
       "        vertical-align: top;\n",
       "    }\n",
       "\n",
       "    .dataframe thead th {\n",
       "        text-align: right;\n",
       "    }\n",
       "</style>\n",
       "<table border=\"1\" class=\"dataframe\">\n",
       "  <thead>\n",
       "    <tr style=\"text-align: right;\">\n",
       "      <th></th>\n",
       "      <th>price</th>\n",
       "      <th>maint</th>\n",
       "      <th>doors</th>\n",
       "      <th>capacity</th>\n",
       "      <th>storage</th>\n",
       "      <th>safety</th>\n",
       "    </tr>\n",
       "  </thead>\n",
       "  <tbody>\n",
       "    <tr>\n",
       "      <th>0</th>\n",
       "      <td>3</td>\n",
       "      <td>3</td>\n",
       "      <td>2</td>\n",
       "      <td>2</td>\n",
       "      <td>small</td>\n",
       "      <td>low</td>\n",
       "    </tr>\n",
       "    <tr>\n",
       "      <th>1</th>\n",
       "      <td>3</td>\n",
       "      <td>3</td>\n",
       "      <td>2</td>\n",
       "      <td>2</td>\n",
       "      <td>small</td>\n",
       "      <td>med</td>\n",
       "    </tr>\n",
       "    <tr>\n",
       "      <th>2</th>\n",
       "      <td>3</td>\n",
       "      <td>3</td>\n",
       "      <td>2</td>\n",
       "      <td>2</td>\n",
       "      <td>small</td>\n",
       "      <td>high</td>\n",
       "    </tr>\n",
       "    <tr>\n",
       "      <th>3</th>\n",
       "      <td>3</td>\n",
       "      <td>3</td>\n",
       "      <td>2</td>\n",
       "      <td>2</td>\n",
       "      <td>med</td>\n",
       "      <td>low</td>\n",
       "    </tr>\n",
       "    <tr>\n",
       "      <th>4</th>\n",
       "      <td>3</td>\n",
       "      <td>3</td>\n",
       "      <td>2</td>\n",
       "      <td>2</td>\n",
       "      <td>med</td>\n",
       "      <td>med</td>\n",
       "    </tr>\n",
       "  </tbody>\n",
       "</table>\n",
       "</div>"
      ],
      "text/plain": [
       "   price  maint doors capacity storage safety\n",
       "0      3      3     2        2   small    low\n",
       "1      3      3     2        2   small    med\n",
       "2      3      3     2        2   small   high\n",
       "3      3      3     2        2     med    low\n",
       "4      3      3     2        2     med    med"
      ]
     },
     "execution_count": 41,
     "metadata": {},
     "output_type": "execute_result"
    }
   ],
   "source": [
    "car_data.head()"
   ]
  },
  {
   "cell_type": "markdown",
   "id": "109d6f4b-7f86-4354-92c8-9c934b7f5617",
   "metadata": {},
   "source": [
    "## Now your turn: Map string variables for 'safety', and 'storage' to integers "
   ]
  },
  {
   "cell_type": "code",
   "execution_count": null,
   "id": "993f928e-a76b-48f7-9bd3-d800d477f3e2",
   "metadata": {},
   "outputs": [],
   "source": []
  },
  {
   "cell_type": "markdown",
   "id": "d79da546-ae7b-4039-922c-1803afe882db",
   "metadata": {},
   "source": [
    "## Split the car_data into train and test split  \n"
   ]
  },
  {
   "cell_type": "code",
   "execution_count": null,
   "id": "02e9b36e-0c50-403c-9e20-33fc582278cb",
   "metadata": {},
   "outputs": [],
   "source": []
  },
  {
   "cell_type": "code",
   "execution_count": 44,
   "id": "fb1a7068-c5ed-49cb-8795-752ab8c1f1c2",
   "metadata": {},
   "outputs": [],
   "source": [
    "from sklearn.model_selection import train_test_split"
   ]
  },
  {
   "cell_type": "code",
   "execution_count": 48,
   "id": "195965be-d360-49ea-99d9-164da4fe8fb0",
   "metadata": {},
   "outputs": [],
   "source": [
    "X = car_data.drop(['price'], axis=1)\n",
    "y = car_data['price']"
   ]
  },
  {
   "cell_type": "code",
   "execution_count": null,
   "id": "0d10d2f1-4d89-4fcf-9787-b3a63cf9564c",
   "metadata": {},
   "outputs": [],
   "source": []
  },
  {
   "cell_type": "markdown",
   "id": "b40b62b3-7565-48dc-8048-f549b26a05f3",
   "metadata": {},
   "source": [
    "## Training a decision tree on the data  \n",
    "Use sklearn library for decision trees to train a decision tree classifier on your data and get the accuracy on the test data  \n",
    "Helpful link: https://www.datacamp.com/tutorial/decision-tree-classification-python"
   ]
  },
  {
   "cell_type": "code",
   "execution_count": 50,
   "id": "0b66c6ef-22fd-4ce1-aa0f-f4645bbd0cbf",
   "metadata": {},
   "outputs": [],
   "source": [
    "from sklearn.tree import DecisionTreeClassifier\n",
    "from sklearn import metrics"
   ]
  },
  {
   "cell_type": "code",
   "execution_count": null,
   "id": "31dd37e6-1905-4958-9035-e1369778173e",
   "metadata": {},
   "outputs": [],
   "source": []
  },
  {
   "cell_type": "markdown",
   "id": "eb08428f-5d0a-44af-9829-3b068dc1f980",
   "metadata": {},
   "source": [
    "## Training a random forest model on the data  \n",
    "Use sklearn library for random forests to train a random forest classifier on your data and get the accuracy on the test data  \n",
    "Helpful link: https://www.geeksforgeeks.org/random-forest-classifier-using-scikit-learn/ "
   ]
  },
  {
   "cell_type": "code",
   "execution_count": 51,
   "id": "9da5bda6-8fad-433d-aa56-25ea303aa61b",
   "metadata": {},
   "outputs": [],
   "source": [
    "from sklearn.ensemble import RandomForestClassifier"
   ]
  },
  {
   "cell_type": "code",
   "execution_count": null,
   "id": "d66d2469-92da-4031-8921-3b3c1b3e72e6",
   "metadata": {},
   "outputs": [],
   "source": []
  },
  {
   "cell_type": "code",
   "execution_count": null,
   "id": "a36e1b2d-2117-47cf-91f2-a3577bb78acb",
   "metadata": {},
   "outputs": [],
   "source": []
  }
 ],
 "metadata": {
  "kernelspec": {
   "display_name": "Python 3 (ipykernel)",
   "language": "python",
   "name": "python3"
  },
  "language_info": {
   "codemirror_mode": {
    "name": "ipython",
    "version": 3
   },
   "file_extension": ".py",
   "mimetype": "text/x-python",
   "name": "python",
   "nbconvert_exporter": "python",
   "pygments_lexer": "ipython3",
   "version": "3.10.4"
  }
 },
 "nbformat": 4,
 "nbformat_minor": 5
}
