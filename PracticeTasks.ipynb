{
 "cells": [
  {
   "cell_type": "markdown",
   "id": "0b8fc3ea-dff7-42f7-a5ba-8b3b110961ea",
   "metadata": {},
   "source": [
    "# Practice for Writing Functions and Classes"
   ]
  },
  {
   "cell_type": "markdown",
   "id": "49b3aa12-3588-42c0-902a-7f85de151a64",
   "metadata": {},
   "source": [
    "To begin, let's practice writing functions that have a specific purpose. In each of the tasks below, write the necessary function and then call that function and print the output."
   ]
  },
  {
   "cell_type": "markdown",
   "id": "aafeb11d-e3f7-4be8-865f-496e264f2975",
   "metadata": {},
   "source": [
    "## Let's practice writing some simple math functions and a class"
   ]
  },
  {
   "cell_type": "markdown",
   "id": "2fecb022-ef00-42b4-bc5f-0c4aaeab1301",
   "metadata": {},
   "source": [
    "### Task 1  \n",
    "Write a function that takes in three parameters: x, y, and z. Add these parameters together and return the sum. Call the function with x = 1, y = 2, and z = 3. The function header is provided."
   ]
  },
  {
   "cell_type": "code",
   "execution_count": 1,
   "id": "5cef802c-4033-437a-89dc-b6a17c42667c",
   "metadata": {},
   "outputs": [],
   "source": [
    "def sum_three_vars(x, y, z):\n",
    "    # Put code here\n",
    "    return"
   ]
  },
  {
   "cell_type": "code",
   "execution_count": 2,
   "id": "c6faf7c4-7da0-4bcc-b89f-ea23ed45a7e7",
   "metadata": {},
   "outputs": [],
   "source": [
    "# Call the function here"
   ]
  },
  {
   "cell_type": "markdown",
   "id": "fc4a9cb5-d08c-43e5-a39d-3a365d05b9e0",
   "metadata": {},
   "source": [
    "### Task 2  \n",
    "Write a function that computes a factorial. Recall, a factorial is written as x! where you multiply each element from 1 to x. For example,  \n",
    "5! = 5 * 4 * 3 * 2 * 1 = 120.   \n",
    "Return the output. The method header is given."
   ]
  },
  {
   "cell_type": "code",
   "execution_count": 4,
   "id": "e634a5c4-9bc1-4ba4-afae-04bae5771deb",
   "metadata": {},
   "outputs": [],
   "source": [
    "def factorial(x):\n",
    "    # Put code here\n",
    "    return"
   ]
  },
  {
   "cell_type": "code",
   "execution_count": 5,
   "id": "ef8d9241-f7a1-46d7-9392-7be4be162e18",
   "metadata": {},
   "outputs": [],
   "source": [
    "# Call the function here and test your logic works correctly"
   ]
  },
  {
   "cell_type": "markdown",
   "id": "1f6d32b9-c197-4e58-8b99-e9868cf9318a",
   "metadata": {},
   "source": [
    "### Task 3  \n",
    "Write a function that computes the Fibonacci Sequence up to the n-th term. Recall, the Fibonacci Sequence up to n is calculated by summing the preceding two terms in the sequence. For example, say you are on the n-th term, then you would sum (n-1)-th + (n-2)-th terms.  \n",
    "Let's write the Fibonacci Sequence up to the 6th term: 0, 1, 1, 2, 3, 5, 8  \n",
    "Notice that each element in the sequence is just the previous to elements summed. This is a more challenging function to write.  \n",
    "\n",
    "**Hint** This function will certainly involve a for loop up to the n-th term. The for loop will need to append numbers to a list and the list will be your output. Try writing out the logic of calculating the Fibonacci sequence in plain english then writing the code after. This is called writing psuedo-code."
   ]
  },
  {
   "cell_type": "code",
   "execution_count": 6,
   "id": "113d14fb-75c1-4fad-b1c9-a227fdd2a5f4",
   "metadata": {},
   "outputs": [],
   "source": [
    "def fibonacci(n):\n",
    "    # Your code here\n",
    "    return"
   ]
  },
  {
   "cell_type": "code",
   "execution_count": 7,
   "id": "8ac0e14c-90cd-44c7-bf05-b7e8ebc4aa37",
   "metadata": {},
   "outputs": [],
   "source": [
    "# Call the function here and test your logic works correctly"
   ]
  },
  {
   "cell_type": "markdown",
   "id": "27328127-7d23-4ace-a686-9eb119f29822",
   "metadata": {},
   "source": [
    "### Task 4  \n",
    "Create a class called math_things which contains each of the three functions you wrote above. The started code is provided."
   ]
  },
  {
   "cell_type": "code",
   "execution_count": 10,
   "id": "559ddeac-8ab3-4a6f-93c5-81e450835772",
   "metadata": {},
   "outputs": [],
   "source": [
    "class math_things:\n",
    "    # Put your functions here and delete pass when done\n",
    "    pass"
   ]
  },
  {
   "cell_type": "markdown",
   "id": "144b5986-7692-4c1e-b64a-45b4311e8b46",
   "metadata": {},
   "source": [
    "The below code blocks test that your class works correctly and your functions have correct logic. They will only run after you have implemented the above class."
   ]
  },
  {
   "cell_type": "code",
   "execution_count": 12,
   "id": "dfcc6476-1289-4dee-8b38-79cb7692f763",
   "metadata": {},
   "outputs": [],
   "source": [
    "math = math_things()"
   ]
  },
  {
   "cell_type": "code",
   "execution_count": null,
   "id": "482663ea-14da-4eca-a301-52b43e6423df",
   "metadata": {},
   "outputs": [],
   "source": [
    "# Test sum_three_vars\n",
    "if math.sum_three_vars(5, 3, 5) == 13\n",
    "    print(\"Correct 1\")\n",
    "if math.sum_three_vars(1, 2, 3) == 6:\n",
    "    print(\"Correct 2\")\n",
    "if math.sum_three_vars(2, 2, 2) == 6:\n",
    "    print(\"Correct 3\")"
   ]
  },
  {
   "cell_type": "code",
   "execution_count": null,
   "id": "042d4a90-0deb-4418-a597-a140f2c1d757",
   "metadata": {},
   "outputs": [],
   "source": [
    "# Test factorial\n",
    "if math.factorial(5) == 120\n",
    "    print(\"Correct 1\")\n",
    "if math.factorial(8) == 40320:\n",
    "    print(\"Correct 2\")\n",
    "if math.factorial(6) == 720:\n",
    "    print(\"Correct 3\")"
   ]
  },
  {
   "cell_type": "code",
   "execution_count": null,
   "id": "a0812c6e-4978-436e-a854-d97c9ad28753",
   "metadata": {},
   "outputs": [],
   "source": [
    "# Test fibonacci\n",
    "if math.fibonacci(5) == [0, 1, 1, 2, 3, 5]:\n",
    "    print(\"Correct 1\")\n",
    "if math.fibonacci(3) == [0, 1, 1]:\n",
    "    print(\"Correct 2\")\n",
    "if math.fibonacci(7) == [0, 1, 1, 2, 3, 5, 8, 13]:\n",
    "    print(\"Correct 3\")"
   ]
  },
  {
   "cell_type": "markdown",
   "id": "9b2e2056-f0e3-4b06-8fc5-ddef1b275e8d",
   "metadata": {},
   "source": [
    "## Now let's start working with some data and writing functions that analyze this data"
   ]
  },
  {
   "cell_type": "code",
   "execution_count": null,
   "id": "2428e4e6-53dc-410e-be87-47889f2edaaa",
   "metadata": {},
   "outputs": [],
   "source": []
  },
  {
   "cell_type": "code",
   "execution_count": null,
   "id": "ea940f75-d577-4a5b-8ba4-4d82b6de0e0f",
   "metadata": {},
   "outputs": [],
   "source": []
  },
  {
   "cell_type": "code",
   "execution_count": null,
   "id": "75bbb55d-59d5-4f4a-a840-631fdc530b5a",
   "metadata": {},
   "outputs": [],
   "source": []
  },
  {
   "cell_type": "code",
   "execution_count": null,
   "id": "90cc1a1a-7112-4aa2-99f9-1c7b4313962f",
   "metadata": {},
   "outputs": [],
   "source": []
  }
 ],
 "metadata": {
  "kernelspec": {
   "display_name": "Python 3 (ipykernel)",
   "language": "python",
   "name": "python3"
  },
  "language_info": {
   "codemirror_mode": {
    "name": "ipython",
    "version": 3
   },
   "file_extension": ".py",
   "mimetype": "text/x-python",
   "name": "python",
   "nbconvert_exporter": "python",
   "pygments_lexer": "ipython3",
   "version": "3.10.4"
  }
 },
 "nbformat": 4,
 "nbformat_minor": 5
}
