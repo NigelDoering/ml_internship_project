{
 "cells": [
  {
   "cell_type": "markdown",
   "id": "0b8fc3ea-dff7-42f7-a5ba-8b3b110961ea",
   "metadata": {},
   "source": [
    "# Practice for Writing Functions and Classes"
   ]
  },
  {
   "cell_type": "markdown",
   "id": "49b3aa12-3588-42c0-902a-7f85de151a64",
   "metadata": {},
   "source": [
    "To begin, let's practice writing functions that have a specific purpose. In each of the tasks below, write the necessary function and then call that function and print the output."
   ]
  },
  {
   "cell_type": "markdown",
   "id": "aafeb11d-e3f7-4be8-865f-496e264f2975",
   "metadata": {},
   "source": [
    "## Let's practice writing some simple math functions and a class"
   ]
  },
  {
   "cell_type": "markdown",
   "id": "2fecb022-ef00-42b4-bc5f-0c4aaeab1301",
   "metadata": {},
   "source": [
    "### Task 1  \n",
    "Write a function that takes in three parameters: x, y, and z. Add these parameters together and return the sum. Call the function with x = 1, y = 2, and z = 3. The function header is provided."
   ]
  },
  {
   "cell_type": "code",
   "execution_count": 1,
   "id": "5cef802c-4033-437a-89dc-b6a17c42667c",
   "metadata": {},
   "outputs": [],
   "source": [
    "def sum_three_vars(x, y, z):\n",
    "    # Put code here\n",
    "    return"
   ]
  },
  {
   "cell_type": "code",
   "execution_count": 2,
   "id": "c6faf7c4-7da0-4bcc-b89f-ea23ed45a7e7",
   "metadata": {},
   "outputs": [],
   "source": [
    "# Call the function here"
   ]
  },
  {
   "cell_type": "markdown",
   "id": "fc4a9cb5-d08c-43e5-a39d-3a365d05b9e0",
   "metadata": {},
   "source": [
    "### Task 2  \n",
    "Write a function that computes a factorial. Recall, a factorial is written as x! where you multiply each element from 1 to x. For example,  \n",
    "5! = 5 * 4 * 3 * 2 * 1 = 120.   \n",
    "Return the output. The method header is given."
   ]
  },
  {
   "cell_type": "code",
   "execution_count": 4,
   "id": "e634a5c4-9bc1-4ba4-afae-04bae5771deb",
   "metadata": {},
   "outputs": [],
   "source": [
    "def factorial(x):\n",
    "    # Put code here\n",
    "    return"
   ]
  },
  {
   "cell_type": "code",
   "execution_count": 5,
   "id": "ef8d9241-f7a1-46d7-9392-7be4be162e18",
   "metadata": {},
   "outputs": [],
   "source": [
    "# Call the function here and test your logic works correctly"
   ]
  },
  {
   "cell_type": "markdown",
   "id": "1f6d32b9-c197-4e58-8b99-e9868cf9318a",
   "metadata": {},
   "source": [
    "### Task 3  \n",
    "Write a function that computes the Fibonacci Sequence up to the n-th term. Recall, the Fibonacci Sequence up to n is calculated by summing the preceding two terms in the sequence. For example, say you are on the n-th term, then you would sum (n-1)-th + (n-2)-th terms.  \n",
    "Let's write the Fibonacci Sequence up to the 6th term: 0, 1, 1, 2, 3, 5, 8  \n",
    "Notice that each element in the sequence is just the previous to elements summed. This is a more challenging function to write.  \n",
    "\n",
    "**Hint** This function will certainly involve a for loop up to the n-th term. The for loop will need to append numbers to a list and the list will be your output. Try writing out the logic of calculating the Fibonacci sequence in plain english then writing the code after. This is called writing psuedo-code."
   ]
  },
  {
   "cell_type": "code",
   "execution_count": 6,
   "id": "113d14fb-75c1-4fad-b1c9-a227fdd2a5f4",
   "metadata": {},
   "outputs": [],
   "source": [
    "def fibonacci(n):\n",
    "    # Your code here\n",
    "    return"
   ]
  },
  {
   "cell_type": "code",
   "execution_count": 7,
   "id": "8ac0e14c-90cd-44c7-bf05-b7e8ebc4aa37",
   "metadata": {},
   "outputs": [],
   "source": [
    "# Call the function here and test your logic works correctly"
   ]
  },
  {
   "cell_type": "markdown",
   "id": "27328127-7d23-4ace-a686-9eb119f29822",
   "metadata": {},
   "source": [
    "### Task 4  \n",
    "Create a class called math_things which contains each of the three functions you wrote above. The started code is provided."
   ]
  },
  {
   "cell_type": "code",
   "execution_count": 10,
   "id": "559ddeac-8ab3-4a6f-93c5-81e450835772",
   "metadata": {},
   "outputs": [],
   "source": [
    "class math_things:\n",
    "    # Put your functions here and delete pass when done\n",
    "    pass"
   ]
  },
  {
   "cell_type": "markdown",
   "id": "144b5986-7692-4c1e-b64a-45b4311e8b46",
   "metadata": {},
   "source": [
    "The below code blocks test that your class works correctly and your functions have correct logic. They will only run after you have implemented the above class."
   ]
  },
  {
   "cell_type": "code",
   "execution_count": 12,
   "id": "dfcc6476-1289-4dee-8b38-79cb7692f763",
   "metadata": {},
   "outputs": [],
   "source": [
    "math = math_things()"
   ]
  },
  {
   "cell_type": "code",
   "execution_count": null,
   "id": "482663ea-14da-4eca-a301-52b43e6423df",
   "metadata": {},
   "outputs": [],
   "source": [
    "# Test sum_three_vars\n",
    "if math.sum_three_vars(5, 3, 5) == 13\n",
    "    print(\"Correct 1\")\n",
    "if math.sum_three_vars(1, 2, 3) == 6:\n",
    "    print(\"Correct 2\")\n",
    "if math.sum_three_vars(2, 2, 2) == 6:\n",
    "    print(\"Correct 3\")"
   ]
  },
  {
   "cell_type": "code",
   "execution_count": null,
   "id": "042d4a90-0deb-4418-a597-a140f2c1d757",
   "metadata": {},
   "outputs": [],
   "source": [
    "# Test factorial\n",
    "if math.factorial(5) == 120\n",
    "    print(\"Correct 1\")\n",
    "if math.factorial(8) == 40320:\n",
    "    print(\"Correct 2\")\n",
    "if math.factorial(6) == 720:\n",
    "    print(\"Correct 3\")"
   ]
  },
  {
   "cell_type": "code",
   "execution_count": null,
   "id": "a0812c6e-4978-436e-a854-d97c9ad28753",
   "metadata": {},
   "outputs": [],
   "source": [
    "# Test fibonacci\n",
    "if math.fibonacci(5) == [0, 1, 1, 2, 3, 5]:\n",
    "    print(\"Correct 1\")\n",
    "if math.fibonacci(3) == [0, 1, 1]:\n",
    "    print(\"Correct 2\")\n",
    "if math.fibonacci(7) == [0, 1, 1, 2, 3, 5, 8, 13]:\n",
    "    print(\"Correct 3\")"
   ]
  },
  {
   "cell_type": "markdown",
   "id": "9b2e2056-f0e3-4b06-8fc5-ddef1b275e8d",
   "metadata": {},
   "source": [
    "## Now let's start working with some data and writing functions that analyze this data"
   ]
  },
  {
   "cell_type": "markdown",
   "id": "129c2818-7da2-47c9-907c-c1b520bcc925",
   "metadata": {},
   "source": [
    "First, we are importing the iris dataset and doing a quick analysis"
   ]
  },
  {
   "cell_type": "code",
   "execution_count": 1,
   "id": "ea940f75-d577-4a5b-8ba4-4d82b6de0e0f",
   "metadata": {},
   "outputs": [],
   "source": [
    "import pandas as pd\n",
    "import numpy as np\n",
    "from sklearn.datasets import load_iris\n",
    "from sklearn.metrics import accuracy_score"
   ]
  },
  {
   "cell_type": "code",
   "execution_count": 10,
   "id": "75bbb55d-59d5-4f4a-a840-631fdc530b5a",
   "metadata": {},
   "outputs": [],
   "source": [
    "# Load dataset as a pandas dataframe (Look up what a pandas dataframe is)\n",
    "data = load_iris()\n",
    "iris = pd.DataFrame(data=data.data, columns=data.feature_names)\n",
    "y = pd.Series(data.target)\n",
    "iris['iris_type'] = y"
   ]
  },
  {
   "cell_type": "markdown",
   "id": "cc2aead6-3483-4074-8d62-68cc07c1dd02",
   "metadata": {},
   "source": [
    "Let's see what our data looks like"
   ]
  },
  {
   "cell_type": "code",
   "execution_count": 11,
   "id": "4ff65177-fd52-4658-9ed1-d6321f071c2a",
   "metadata": {},
   "outputs": [
    {
     "data": {
      "text/html": [
       "<div>\n",
       "<style scoped>\n",
       "    .dataframe tbody tr th:only-of-type {\n",
       "        vertical-align: middle;\n",
       "    }\n",
       "\n",
       "    .dataframe tbody tr th {\n",
       "        vertical-align: top;\n",
       "    }\n",
       "\n",
       "    .dataframe thead th {\n",
       "        text-align: right;\n",
       "    }\n",
       "</style>\n",
       "<table border=\"1\" class=\"dataframe\">\n",
       "  <thead>\n",
       "    <tr style=\"text-align: right;\">\n",
       "      <th></th>\n",
       "      <th>sepal length (cm)</th>\n",
       "      <th>sepal width (cm)</th>\n",
       "      <th>petal length (cm)</th>\n",
       "      <th>petal width (cm)</th>\n",
       "      <th>iris_type</th>\n",
       "    </tr>\n",
       "  </thead>\n",
       "  <tbody>\n",
       "    <tr>\n",
       "      <th>0</th>\n",
       "      <td>5.1</td>\n",
       "      <td>3.5</td>\n",
       "      <td>1.4</td>\n",
       "      <td>0.2</td>\n",
       "      <td>0</td>\n",
       "    </tr>\n",
       "    <tr>\n",
       "      <th>1</th>\n",
       "      <td>4.9</td>\n",
       "      <td>3.0</td>\n",
       "      <td>1.4</td>\n",
       "      <td>0.2</td>\n",
       "      <td>0</td>\n",
       "    </tr>\n",
       "    <tr>\n",
       "      <th>2</th>\n",
       "      <td>4.7</td>\n",
       "      <td>3.2</td>\n",
       "      <td>1.3</td>\n",
       "      <td>0.2</td>\n",
       "      <td>0</td>\n",
       "    </tr>\n",
       "    <tr>\n",
       "      <th>3</th>\n",
       "      <td>4.6</td>\n",
       "      <td>3.1</td>\n",
       "      <td>1.5</td>\n",
       "      <td>0.2</td>\n",
       "      <td>0</td>\n",
       "    </tr>\n",
       "    <tr>\n",
       "      <th>4</th>\n",
       "      <td>5.0</td>\n",
       "      <td>3.6</td>\n",
       "      <td>1.4</td>\n",
       "      <td>0.2</td>\n",
       "      <td>0</td>\n",
       "    </tr>\n",
       "  </tbody>\n",
       "</table>\n",
       "</div>"
      ],
      "text/plain": [
       "   sepal length (cm)  sepal width (cm)  petal length (cm)  petal width (cm)  \\\n",
       "0                5.1               3.5                1.4               0.2   \n",
       "1                4.9               3.0                1.4               0.2   \n",
       "2                4.7               3.2                1.3               0.2   \n",
       "3                4.6               3.1                1.5               0.2   \n",
       "4                5.0               3.6                1.4               0.2   \n",
       "\n",
       "   iris_type  \n",
       "0          0  \n",
       "1          0  \n",
       "2          0  \n",
       "3          0  \n",
       "4          0  "
      ]
     },
     "execution_count": 11,
     "metadata": {},
     "output_type": "execute_result"
    }
   ],
   "source": [
    "iris.head()"
   ]
  },
  {
   "cell_type": "markdown",
   "id": "324d87f8-5096-4314-b852-d10aff195cde",
   "metadata": {},
   "source": [
    "Notice that the data is similar to the data used in the MIT video. Instead of data about football players height, weight, and position, we have data about a iris flowers. In this case, for each flower example, we have data on the flower sepal length, sepal width, petal length, petal width, and finally we have the type of iris flower. The type of iris flower is just represented by a number rather than the name of that type. So all flowers of iris_type 0 are the same type of iris flower."
   ]
  },
  {
   "cell_type": "markdown",
   "id": "60a3d842-1798-4b37-8cb2-58ee9a63ab53",
   "metadata": {},
   "source": [
    "### We can visualize the data to better understand the differences in flowers"
   ]
  },
  {
   "cell_type": "code",
   "execution_count": 35,
   "id": "3598fd79-7cd7-44bd-801f-7fc055c6f552",
   "metadata": {},
   "outputs": [],
   "source": [
    "import matplotlib.pyplot as plt"
   ]
  },
  {
   "cell_type": "code",
   "execution_count": 39,
   "id": "99cfcb52-86dc-4978-aaea-dccf728ddeb4",
   "metadata": {},
   "outputs": [
    {
     "data": {
      "image/png": "[encoded data removed]",
      "text/plain": [
       "<Figure size 432x288 with 2 Axes>"
      ]
     },
     "metadata": {
      "needs_background": "light"
     },
     "output_type": "display_data"
    }
   ],
   "source": [
    "fig, ax = plt.subplots()\n",
    "iris.plot.scatter( x = 'petal length (cm)', \n",
    "                  y = 'petal width (cm)', \n",
    "                  c = 'iris_type', \n",
    "                  colormap = 'viridis', \n",
    "                  title = 'Iris petal width vs length', \n",
    "                  ax = ax)\n",
    "plt.show()"
   ]
  },
  {
   "cell_type": "code",
   "execution_count": 40,
   "id": "ba3e0e40-df40-472b-ae7e-e5b6d8f7da8a",
   "metadata": {},
   "outputs": [
    {
     "data": {
      "image/png": "[encoded data removed]",
      "text/plain": [
       "<Figure size 432x288 with 2 Axes>"
      ]
     },
     "metadata": {
      "needs_background": "light"
     },
     "output_type": "display_data"
    }
   ],
   "source": [
    "fig, ax = plt.subplots()\n",
    "iris.plot.scatter( x = 'sepal length (cm)', \n",
    "                  y = 'sepal width (cm)', \n",
    "                  c = 'iris_type', \n",
    "                  colormap = 'viridis', \n",
    "                  title = 'Iris sepal width vs length', \n",
    "                  ax = ax)\n",
    "plt.show()"
   ]
  },
  {
   "cell_type": "markdown",
   "id": "5935f858-61b4-451b-9e74-34724b327754",
   "metadata": {},
   "source": [
    "What are some different algorithms we could use to separate this data? K-Nearest-Neighbors? Decision Trees?"
   ]
  },
  {
   "cell_type": "code",
   "execution_count": null,
   "id": "cbf260bf-ba76-4ff7-8a86-450e9728bce8",
   "metadata": {},
   "outputs": [],
   "source": []
  }
 ],
 "metadata": {
  "kernelspec": {
   "display_name": "Python 3 (ipykernel)",
   "language": "python",
   "name": "python3"
  },
  "language_info": {
   "codemirror_mode": {
    "name": "ipython",
    "version": 3
   },
   "file_extension": ".py",
   "mimetype": "text/x-python",
   "name": "python",
   "nbconvert_exporter": "python",
   "pygments_lexer": "ipython3",
   "version": "3.10.4"
  }
 },
 "nbformat": 4,
 "nbformat_minor": 5
}
