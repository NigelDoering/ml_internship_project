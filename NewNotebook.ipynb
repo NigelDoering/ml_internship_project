{
 "cells": [
  {
   "cell_type": "code",
   "execution_count": 11,
   "id": "a282ddb2-2cb0-4ec7-b220-3ce351a144e5",
   "metadata": {},
   "outputs": [
    {
     "name": "stdin",
     "output_type": "stream",
     "text": [
      "What time is it?  9\n"
     ]
    },
    {
     "name": "stdout",
     "output_type": "stream",
     "text": [
      "Its getting late.\n",
      "We should start heading home.\n"
     ]
    },
    {
     "name": "stdin",
     "output_type": "stream",
     "text": [
      "What are you doing after this?  going to bed\n"
     ]
    },
    {
     "name": "stdout",
     "output_type": "stream",
     "text": [
      "Have a good night!\n"
     ]
    }
   ],
   "source": [
    "time = int(input(\"What time is it? \"))\n",
    "if time > 6:\n",
    "    print(\"Its getting late.\")\n",
    "    print(\"We should start heading home.\")\n",
    "elif time < 6:\n",
    "    print(\"We can stay a little longer.\")\n",
    "action = input(\"What are you doing after this? \")\n",
    "if action == 'nothing':\n",
    "    input(\"Would you like to go the mall? \")\n",
    "    print(\"Cool!\")\n",
    "if action == 'going to bed':\n",
    "    print(\"Have a good night!\")"
   ]
  },
  {
   "cell_type": "code",
   "execution_count": 6,
   "id": "741c9dae-6144-462d-97c2-77ff378e8581",
   "metadata": {},
   "outputs": [
    {
     "ename": "ImportError",
     "evalue": "cannot import name 'fraction' from 'fractions' (/opt/conda/lib/python3.10/fractions.py)",
     "output_type": "error",
     "traceback": [
      "\u001b[0;31m---------------------------------------------------------------------------\u001b[0m",
      "\u001b[0;31mImportError\u001b[0m                               Traceback (most recent call last)",
      "Input \u001b[0;32mIn [6]\u001b[0m, in \u001b[0;36m<cell line: 1>\u001b[0;34m()\u001b[0m\n\u001b[0;32m----> 1\u001b[0m \u001b[38;5;28;01mfrom\u001b[39;00m \u001b[38;5;21;01mfractions\u001b[39;00m \u001b[38;5;28;01mimport\u001b[39;00m fraction\n\u001b[1;32m      2\u001b[0m fraction1 \u001b[38;5;241m=\u001b[39m fractions\u001b[38;5;241m.\u001b[39mFraction(numerator\u001b[38;5;241m=\u001b[39m\u001b[38;5;241m1\u001b[39m, denominator\u001b[38;5;241m=\u001b[39m\u001b[38;5;241m2\u001b[39m)\n\u001b[1;32m      3\u001b[0m \u001b[38;5;28mprint\u001b[39m(fraction1)\n",
      "\u001b[0;31mImportError\u001b[0m: cannot import name 'fraction' from 'fractions' (/opt/conda/lib/python3.10/fractions.py)"
     ]
    }
   ],
   "source": [
    "fraction1 = fractions.Fraction(numerator=1, denominator=2)\n",
    "print(fraction1)"
   ]
  },
  {
   "cell_type": "code",
   "execution_count": 15,
   "id": "149a3d8c-eb09-4b4a-87a7-1498e8b1c81f",
   "metadata": {},
   "outputs": [
    {
     "name": "stdout",
     "output_type": "stream",
     "text": [
      "11/35\n",
      "5/9\n",
      "0\n",
      "3/4\n"
     ]
    }
   ],
   "source": [
    "from fractions import Fraction\n",
    "\n",
    "print(Fraction(11, 35))\n",
    "print(Fraction(10, 18))\n",
    "print(Fraction())\n",
    "\n",
    "fraction1 = (Fraction(1, 2))\n",
    "fraction2 = (Fraction(1, 4))\n",
    "fraction3 = fraction1 + fraction2\n",
    "print(fraction3)\n"
   ]
  },
  {
   "cell_type": "code",
   "execution_count": 11,
   "id": "07909e77-9455-4b96-9c21-3371319ace9b",
   "metadata": {},
   "outputs": [
    {
     "name": "stdout",
     "output_type": "stream",
     "text": [
      "113/100\n",
      "61/4\n"
     ]
    }
   ],
   "source": [
    "from fractions import Fraction\n",
    "\n",
    "print(Fraction('1.13'))\n",
    "print(Fraction('15.25'))"
   ]
  },
  {
   "cell_type": "code",
   "execution_count": 14,
   "id": "5b6a585c-cbb4-4c25-812a-a3bd51a66379",
   "metadata": {},
   "outputs": [
    {
     "name": "stdout",
     "output_type": "stream",
     "text": [
      "61/4\n"
     ]
    }
   ],
   "source": [
    "from fractions import Fraction\n",
    "\n",
    "print(Fraction(15.25))\n"
   ]
  },
  {
   "cell_type": "code",
   "execution_count": 17,
   "id": "163ee43c-bd16-465d-abe1-aede7cff323a",
   "metadata": {},
   "outputs": [
    {
     "name": "stdout",
     "output_type": "stream",
     "text": [
      "8/25\n",
      "113/100\n",
      "3/7\n",
      "1414213/1000000\n"
     ]
    }
   ],
   "source": [
    "from fractions import Fraction\n",
    "\n",
    "print(Fraction('8/25'))\n",
    "print(Fraction('1.13'))\n",
    "print(Fraction('3/7'))\n",
    "print(Fraction('1.414213 \\t\\n'))"
   ]
  },
  {
   "cell_type": "code",
   "execution_count": 18,
   "id": "986025a6-57c0-4ba4-a589-b6db86aba0c1",
   "metadata": {},
   "outputs": [
    {
     "name": "stdout",
     "output_type": "stream",
     "text": [
      "3/4\n"
     ]
    }
   ],
   "source": [
    "print(Fraction(1, 2) + Fraction(1, 4))"
   ]
  },
  {
   "cell_type": "code",
   "execution_count": 19,
   "id": "6cd55533-0df1-402c-9d97-e1c4dec640b2",
   "metadata": {},
   "outputs": [
    {
     "name": "stdout",
     "output_type": "stream",
     "text": [
      "2\n"
     ]
    }
   ],
   "source": [
    "print(Fraction(1, 2) / Fraction(1, 4))"
   ]
  },
  {
   "cell_type": "code",
   "execution_count": 20,
   "id": "60ce4c65-8058-4c0d-851d-ed9405e9d546",
   "metadata": {},
   "outputs": [
    {
     "name": "stdout",
     "output_type": "stream",
     "text": [
      "1/8\n"
     ]
    }
   ],
   "source": [
    "print(Fraction(1, 2) * Fraction(1, 4))"
   ]
  },
  {
   "cell_type": "code",
   "execution_count": 21,
   "id": "b1da737e-e1d3-4177-bc58-6c14afdc618e",
   "metadata": {},
   "outputs": [
    {
     "name": "stdout",
     "output_type": "stream",
     "text": [
      "H\n"
     ]
    }
   ],
   "source": [
    "# List Index\n",
    "my_list = ['H', 'e', 'll', 'o']\n",
    "print(my_list[0])"
   ]
  },
  {
   "cell_type": "code",
   "execution_count": 23,
   "id": "bdcb8c0f-084e-441e-905b-b6600afca42e",
   "metadata": {},
   "outputs": [
    {
     "name": "stdout",
     "output_type": "stream",
     "text": [
      "e\n"
     ]
    }
   ],
   "source": [
    "my_list = ['H', 'e', 'll', 'o']\n",
    "print(my_list[1])"
   ]
  },
  {
   "cell_type": "code",
   "execution_count": 24,
   "id": "50fac9a9-5520-4324-af98-426edaedd85f",
   "metadata": {},
   "outputs": [
    {
     "name": "stdout",
     "output_type": "stream",
     "text": [
      "ll\n"
     ]
    }
   ],
   "source": [
    "my_list = ['H', 'e', 'll', 'o']\n",
    "print(my_list[2])"
   ]
  },
  {
   "cell_type": "code",
   "execution_count": 25,
   "id": "c2e35b10-d454-4d16-b669-259f5fe9816a",
   "metadata": {},
   "outputs": [
    {
     "name": "stdout",
     "output_type": "stream",
     "text": [
      "o\n"
     ]
    }
   ],
   "source": [
    "my_list = ['H', 'e', 'll', 'o']\n",
    "print(my_list[3])"
   ]
  },
  {
   "cell_type": "code",
   "execution_count": 27,
   "id": "f51149f6-904a-4651-a559-122341c22b99",
   "metadata": {},
   "outputs": [
    {
     "name": "stdout",
     "output_type": "stream",
     "text": [
      "a\n",
      "4\n"
     ]
    }
   ],
   "source": [
    "#Nested Index\n",
    "n_list = [\"Happy\", [1, 2 , 3, 4]]\n",
    "print(n_list[0][1])\n",
    "print(n_list[1][3])"
   ]
  },
  {
   "cell_type": "code",
   "execution_count": 29,
   "id": "647b7c49-b324-4dfb-9966-f9e55aa46481",
   "metadata": {},
   "outputs": [
    {
     "name": "stdout",
     "output_type": "stream",
     "text": [
      "o\n",
      "e\n"
     ]
    }
   ],
   "source": [
    "#Negative Index\n",
    "my_list = ['H', 'e', 'll', 'o']\n",
    "print(my_list[-1])\n",
    "print(my_list[-3])"
   ]
  },
  {
   "cell_type": "code",
   "execution_count": 33,
   "id": "8c6314a0-cd71-45b1-927e-54fa6a4fded7",
   "metadata": {},
   "outputs": [
    {
     "name": "stdout",
     "output_type": "stream",
     "text": [
      "[1, 4, 6, 8]\n"
     ]
    }
   ],
   "source": [
    "# Making one change\n",
    "odd = [2, 4, 6, 8]\n",
    "odd[0] = 1\n",
    "print(odd)"
   ]
  },
  {
   "cell_type": "code",
   "execution_count": 37,
   "id": "11881ca8-c03b-45ba-b1ad-24b895a9a43c",
   "metadata": {},
   "outputs": [
    {
     "name": "stdout",
     "output_type": "stream",
     "text": [
      "[1, 3, 5, 7]\n"
     ]
    }
   ],
   "source": [
    "#Making multiple changes\n",
    "odd = [2, 4, 6, 8]\n",
    "odd[0:4] = [1, 3, 5, 7]\n",
    "print(odd)"
   ]
  },
  {
   "cell_type": "code",
   "execution_count": 39,
   "id": "c9cad2e8-53b1-4e67-97fa-64567e75cba5",
   "metadata": {},
   "outputs": [
    {
     "name": "stdout",
     "output_type": "stream",
     "text": [
      "[1, 3, 5, 7]\n"
     ]
    }
   ],
   "source": [
    "#Adding one item\n",
    "odd = [1, 3, 5]\n",
    "odd.append(7)\n",
    "print(odd)"
   ]
  },
  {
   "cell_type": "code",
   "execution_count": 40,
   "id": "864c7ca3-7cd9-4352-b931-4992d975bd11",
   "metadata": {},
   "outputs": [
    {
     "name": "stdout",
     "output_type": "stream",
     "text": [
      "[1, 3, 5, 7, 9, 11, 13]\n"
     ]
    }
   ],
   "source": [
    "#Adding several items\n",
    "odd = [1, 3, 5]\n",
    "odd.extend([7, 9, 11, 13])\n",
    "print(odd)"
   ]
  },
  {
   "cell_type": "code",
   "execution_count": 42,
   "id": "60735fa6-b57f-49d8-ae91-a1a8dfeed474",
   "metadata": {},
   "outputs": [
    {
     "name": "stdout",
     "output_type": "stream",
     "text": [
      "[1, 3, 5, 7, 5, 3, 1]\n"
     ]
    }
   ],
   "source": [
    "# Combine\n",
    "odd = [1, 3, 5]\n",
    "print(odd + [7, 5, 3, 1])"
   ]
  },
  {
   "cell_type": "code",
   "execution_count": 53,
   "id": "4fb01844-16e2-406a-9e07-117b3763eb46",
   "metadata": {},
   "outputs": [
    {
     "name": "stdout",
     "output_type": "stream",
     "text": [
      "['HI', 'HI', 'HI', 'HI', 'HI']\n"
     ]
    }
   ],
   "source": [
    "#repeat\n",
    "print([\"HI\"] * 5)"
   ]
  },
  {
   "cell_type": "code",
   "execution_count": 48,
   "id": "62266b29-a09f-4beb-8f3b-65754e7ef3c4",
   "metadata": {},
   "outputs": [
    {
     "name": "stdout",
     "output_type": "stream",
     "text": [
      "[1, 3, 9]\n"
     ]
    }
   ],
   "source": [
    "#insert 1\n",
    "odd = [1, 9]\n",
    "odd.insert(1,3)\n",
    "print(odd)"
   ]
  },
  {
   "cell_type": "code",
   "execution_count": 52,
   "id": "766fae99-5cb3-4529-a5b1-fd0daf32eadf",
   "metadata": {},
   "outputs": [
    {
     "name": "stdout",
     "output_type": "stream",
     "text": [
      "[1, 3, 5, 7, 9]\n"
     ]
    }
   ],
   "source": [
    "# insert 2\n",
    "odd = [1, 3, 9]\n",
    "odd[2:2] = [5,7]\n",
    "print(odd)"
   ]
  },
  {
   "cell_type": "code",
   "execution_count": 58,
   "id": "0707337c-2f50-462e-b8e5-489706b50b43",
   "metadata": {},
   "outputs": [
    {
     "name": "stdout",
     "output_type": "stream",
     "text": [
      "['p', 'r', 'b', 'l', 'e', 'm']\n"
     ]
    }
   ],
   "source": [
    "#deteleting one item\n",
    "my_list = ['p', 'r', 'o', 'b', 'l', 'e', 'm']\n",
    "del my_list[2]\n",
    "print(my_list)"
   ]
  },
  {
   "cell_type": "code",
   "execution_count": 59,
   "id": "fe6cce73-df23-487e-85ef-5b8130de3472",
   "metadata": {},
   "outputs": [
    {
     "name": "stdout",
     "output_type": "stream",
     "text": [
      "['p', 'l', 'e', 'm']\n"
     ]
    }
   ],
   "source": [
    "#deteleting ultiple items\n",
    "my_list = ['p', 'r', 'o', 'b', 'l', 'e', 'm']\n",
    "del my_list[1:4]\n",
    "print(my_list)"
   ]
  },
  {
   "cell_type": "code",
   "execution_count": 62,
   "id": "dc330cab-86f9-4b20-a74b-d33b254965d6",
   "metadata": {},
   "outputs": [],
   "source": [
    "#deteleting list\n",
    "my_list = ['p', 'r', 'o', 'b', 'l', 'e', 'm']\n",
    "del my_list"
   ]
  },
  {
   "cell_type": "code",
   "execution_count": 64,
   "id": "bc313de2-f4e5-44f1-8f02-6b8beebe950d",
   "metadata": {},
   "outputs": [
    {
     "name": "stdout",
     "output_type": "stream",
     "text": [
      "['r', 'o', 'b', 'l', 'e', 'm']\n"
     ]
    }
   ],
   "source": [
    "# removing one item\n",
    "my_list = ['p', 'r', 'o', 'b', 'l', 'e', 'm']\n",
    "my_list.remove('p')\n",
    "print(my_list)"
   ]
  },
  {
   "cell_type": "code",
   "execution_count": 67,
   "id": "bb69cd05-b52c-43ca-95f1-2c40b0504812",
   "metadata": {},
   "outputs": [
    {
     "name": "stdout",
     "output_type": "stream",
     "text": [
      "r\n"
     ]
    }
   ],
   "source": [
    "# removing one item\n",
    "my_list = ['p', 'r', 'o', 'b', 'l', 'e', 'm']\n",
    "print(my_list.pop(1))"
   ]
  },
  {
   "cell_type": "code",
   "execution_count": null,
   "id": "596d1f10-e79a-499f-935f-7b78652cfe32",
   "metadata": {},
   "outputs": [],
   "source": []
  }
 ],
 "metadata": {
  "kernelspec": {
   "display_name": "Python 3 (ipykernel)",
   "language": "python",
   "name": "python3"
  },
  "language_info": {
   "codemirror_mode": {
    "name": "ipython",
    "version": 3
   },
   "file_extension": ".py",
   "mimetype": "text/x-python",
   "name": "python",
   "nbconvert_exporter": "python",
   "pygments_lexer": "ipython3",
   "version": "3.10.4"
  }
 },
 "nbformat": 4,
 "nbformat_minor": 5
}
