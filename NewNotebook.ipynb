{
 "cells": [
  {
   "cell_type": "code",
   "execution_count": 11,
   "id": "a282ddb2-2cb0-4ec7-b220-3ce351a144e5",
   "metadata": {},
   "outputs": [
    {
     "name": "stdin",
     "output_type": "stream",
     "text": [
      "What time is it?  9\n"
     ]
    },
    {
     "name": "stdout",
     "output_type": "stream",
     "text": [
      "Its getting late.\n",
      "We should start heading home.\n"
     ]
    },
    {
     "name": "stdin",
     "output_type": "stream",
     "text": [
      "What are you doing after this?  going to bed\n"
     ]
    },
    {
     "name": "stdout",
     "output_type": "stream",
     "text": [
      "Have a good night!\n"
     ]
    }
   ],
   "source": [
    "time = int(input(\"What time is it? \"))\n",
    "if time > 6:\n",
    "    print(\"Its getting late.\")\n",
    "    print(\"We should start heading home.\")\n",
    "elif time < 6:\n",
    "    print(\"We can stay a little longer.\")\n",
    "action = input(\"What are you doing after this? \")\n",
    "if action == 'nothing':\n",
    "    input(\"Would you like to go the mall? \")\n",
    "    print(\"Cool!\")\n",
    "if action == 'going to bed':\n",
    "    print(\"Have a good night!\")"
   ]
  },
  {
   "cell_type": "code",
   "execution_count": null,
   "id": "741c9dae-6144-462d-97c2-77ff378e8581",
   "metadata": {},
   "outputs": [],
   "source": []
  }
 ],
 "metadata": {
  "kernelspec": {
   "display_name": "Python 3 (ipykernel)",
   "language": "python",
   "name": "python3"
  },
  "language_info": {
   "codemirror_mode": {
    "name": "ipython",
    "version": 3
   },
   "file_extension": ".py",
   "mimetype": "text/x-python",
   "name": "python",
   "nbconvert_exporter": "python",
   "pygments_lexer": "ipython3",
   "version": "3.10.4"
  }
 },
 "nbformat": 4,
 "nbformat_minor": 5
}
